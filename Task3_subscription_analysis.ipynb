{
 "cells": [
  {
   "cell_type": "code",
   "execution_count": 12,
   "id": "14288626",
   "metadata": {},
   "outputs": [
    {
     "name": "stdout",
     "output_type": "stream",
     "text": [
      "Defaulting to user installation because normal site-packages is not writeable\n",
      "Requirement already satisfied: pyspark in /Users/macos/Library/Python/3.9/lib/python/site-packages (3.5.3)\n",
      "Requirement already satisfied: py4j==0.10.9.7 in /Users/macos/Library/Python/3.9/lib/python/site-packages (from pyspark) (0.10.9.7)\n",
      "\n",
      "\u001b[1m[\u001b[0m\u001b[34;49mnotice\u001b[0m\u001b[1;39;49m]\u001b[0m\u001b[39;49m A new release of pip is available: \u001b[0m\u001b[31;49m23.2.1\u001b[0m\u001b[39;49m -> \u001b[0m\u001b[32;49m24.3.1\u001b[0m\n",
      "\u001b[1m[\u001b[0m\u001b[34;49mnotice\u001b[0m\u001b[1;39;49m]\u001b[0m\u001b[39;49m To update, run: \u001b[0m\u001b[32;49m/Library/Developer/CommandLineTools/usr/bin/python3 -m pip install --upgrade pip\u001b[0m\n"
     ]
    }
   ],
   "source": [
    "! python3 -m venv venv\n",
    "! source venv/bin/activate\n",
    "! pip3 install pyspark"
   ]
  },
  {
   "cell_type": "code",
   "execution_count": 13,
   "id": "20dacaa2-4c42-44fb-b912-36582ada25e0",
   "metadata": {
    "microsoft": {
     "language": "python",
     "language_group": "synapse_pyspark"
    }
   },
   "outputs": [],
   "source": [
    "from pyspark.sql.functions import col, explode,regexp_replace,split,from_json,min,max,datediff,to_date, when, current_date,sum,countDistinct,filter\n",
    "from pyspark.sql.types import StructType, StructField, StringType, ArrayType, BooleanType, TimestampType, DoubleType\n",
    "from pyspark.sql import SparkSession\n",
    "\n",
    "spark = SparkSession.builder.appName('Task3_subscription').getOrCreate()"
   ]
  },
  {
   "cell_type": "code",
   "execution_count": 14,
   "id": "1ec32c89-6b95-461f-938e-f862367d359b",
   "metadata": {
    "jupyter": {
     "outputs_hidden": false,
     "source_hidden": false
    },
    "microsoft": {
     "language": "python",
     "language_group": "synapse_pyspark"
    },
    "nteract": {
     "transient": {
      "deleting": false
     }
    }
   },
   "outputs": [],
   "source": [
    "df_schema = StructType([\n",
    "    StructField(\"store_id\", StringType(), True),\n",
    "    StructField(\"installHistory\", StringType(), True),  # Read raw JSON as String first\n",
    "    StructField(\"subscriptionHistory\", StringType(), True)  # Read raw JSON as String first\n",
    "])"
   ]
  },
  {
   "cell_type": "code",
   "execution_count": 15,
   "id": "39a9a726-b292-42d6-8491-738e918a801a",
   "metadata": {
    "collapsed": false,
    "jupyter": {
     "outputs_hidden": false,
     "source_hidden": false
    },
    "microsoft": {
     "language": "python",
     "language_group": "synapse_pyspark"
    },
    "nteract": {
     "transient": {
      "deleting": false
     }
    }
   },
   "outputs": [],
   "source": [
    "datasample_df = spark.read \\\n",
    "    .format(\"csv\") \\\n",
    "    .option(\"delimiter\",\";\") \\\n",
    "    .option(\"header\", \"true\") \\\n",
    "    .schema(df_schema) \\\n",
    "    .load(\"files/dataset_sample.csv\")\n"
   ]
  },
  {
   "cell_type": "code",
   "execution_count": 16,
   "id": "7096c25c-c1a1-4b14-aba9-ccc239d6877c",
   "metadata": {
    "collapsed": false,
    "jupyter": {
     "outputs_hidden": false,
     "source_hidden": false
    },
    "microsoft": {
     "language": "python",
     "language_group": "synapse_pyspark"
    },
    "nteract": {
     "transient": {
      "deleting": false
     }
    }
   },
   "outputs": [],
   "source": [
    "datasample_transform_df = datasample_df.withColumn(\n",
    "    'store_id',\n",
    "    regexp_replace(regexp_replace(regexp_replace(col('store_id'), r',\"\\[', ';['),r'\",\\[',';['),'\"\"','\"')\n",
    ")\n"
   ]
  },
  {
   "cell_type": "code",
   "execution_count": 17,
   "id": "4039e1ce-d8e5-4975-bcba-adc4876d7c9c",
   "metadata": {
    "collapsed": false,
    "jupyter": {
     "outputs_hidden": false,
     "source_hidden": false
    },
    "microsoft": {
     "language": "python",
     "language_group": "synapse_pyspark"
    },
    "nteract": {
     "transient": {
      "deleting": false
     }
    }
   },
   "outputs": [],
   "source": [
    "datasample_transform_df = datasample_transform_df.\\\n",
    "                    withColumn('store_ids',split(col('store_id'),';').getItem(0)). \\\n",
    "                    withColumn('installHistory',split(col('store_id'),';').getItem(1)). \\\n",
    "                    withColumn('subscriptionHistory',split(col('store_id'),';').getItem(2))\n",
    "                    \n",
    "datasample_transform_df = datasample_transform_df.select(\n",
    "    col('store_ids').alias('store_id'),\n",
    "    col('installHistory'),\n",
    "    col('subscriptionHistory')\n",
    ")\n"
   ]
  },
  {
   "cell_type": "code",
   "execution_count": 18,
   "id": "82230d1f-3ad3-49a6-98cb-ba1b40530abc",
   "metadata": {
    "jupyter": {
     "outputs_hidden": false,
     "source_hidden": false
    },
    "microsoft": {
     "language": "python",
     "language_group": "synapse_pyspark"
    },
    "nteract": {
     "transient": {
      "deleting": false
     }
    }
   },
   "outputs": [],
   "source": [
    "installHistory_schema = ArrayType(\n",
    "    StructType([\n",
    "        StructField('toNow',BooleanType(),True),\n",
    "        StructField('startType',StringType(),True),\n",
    "        StructField('fromDate',TimestampType(),True),\n",
    "        StructField('endType',StringType(),True),\n",
    "        StructField('toDate',TimestampType(),True)\n",
    "    ])\n",
    ")\n",
    "\n",
    "subscriptionHistory_schema = ArrayType(\n",
    "    StructType(\n",
    "        [\n",
    "        StructField('price',DoubleType(),True),\n",
    "        StructField('planName',StringType(),True),\n",
    "        StructField('fromDate',TimestampType(),True),\n",
    "        StructField('toDate',TimestampType(),True),\n",
    "        StructField('billingOnDate',StringType(),True)\n",
    "        ]\n",
    "    )\n",
    ")\n",
    "\n",
    "datasample_transform_df = datasample_transform_df.withColumn(\"installHistory\",from_json('installHistory',installHistory_schema))\\\n",
    "                                .withColumn(\"subscriptionHistory\",from_json(col('subscriptionHistory'),subscriptionHistory_schema))"
   ]
  },
  {
   "cell_type": "code",
   "execution_count": 19,
   "id": "768a08ee-544f-4125-ab72-c3dc49b3bba1",
   "metadata": {
    "collapsed": false,
    "jupyter": {
     "outputs_hidden": false,
     "source_hidden": false
    },
    "microsoft": {
     "language": "python",
     "language_group": "synapse_pyspark"
    },
    "nteract": {
     "transient": {
      "deleting": false
     }
    }
   },
   "outputs": [],
   "source": [
    "datasample_transform_flattened = datasample_transform_df.withColumn(\"install\", explode(col(\"installHistory\")))\n",
    "\n",
    "df_datasample = datasample_transform_flattened.select(\\\n",
    "    col(\"store_id\"),\n",
    "    col(\"install.toNow\").alias(\"toNow\"),\n",
    "    col(\"install.startType\").alias(\"startType\"),\n",
    "    col(\"install.fromDate\").alias(\"fromDate\"),\n",
    "    col(\"install.endType\").alias(\"endType\"),\n",
    "    when(col('toNow') == 'false',col('install.toDate')).otherwise(current_date()).alias('toDate'),\n",
    "    col(\"subscriptionHistory\").getItem(0).getField('price').alias('price'),\n",
    "    col(\"subscriptionHistory\").getItem(0).getField('planName').alias('planName'),\n",
    "    col(\"subscriptionHistory\").getItem(0).getField('fromDate').alias('sub_fromDate'),\n",
    "    col(\"subscriptionHistory\").getItem(0).getField('toDate').alias('sub_toDate'),\n",
    "    col(\"subscriptionHistory\").getItem(0).getField('billingOnDate').alias('billingOnDate')\n",
    ")\n",
    "\n"
   ]
  },
  {
   "cell_type": "code",
   "execution_count": 23,
   "id": "baee5af6-1739-4e23-9ee3-0d553cef8285",
   "metadata": {
    "collapsed": false,
    "jupyter": {
     "outputs_hidden": false,
     "source_hidden": false
    },
    "microsoft": {
     "language": "python",
     "language_group": "synapse_pyspark"
    },
    "nteract": {
     "transient": {
      "deleting": false
     }
    }
   },
   "outputs": [
    {
     "name": "stderr",
     "output_type": "stream",
     "text": [
      "25/01/01 09:12:51 WARN CSVHeaderChecker: CSV header does not conform to the schema.\n",
      " Header: store_id,installHistory,subscriptionHistory\n",
      " Schema: store_id\n",
      "Expected: store_id but found: store_id,installHistory,subscriptionHistory\n",
      "CSV file: file:///Users/macos/Documents/Python/Project-CV/Clearerio/Clearerio_assignment/files/dataset_sample.csv\n"
     ]
    },
    {
     "name": "stdout",
     "output_type": "stream",
     "text": [
      "+----------+----------+----------+------------------+\n",
      "|  store_id| startDate|   endDate|lifespan_in_active|\n",
      "+----------+----------+----------+------------------+\n",
      "|Store_5407|2022-05-30|2025-01-01|               947|\n",
      "|Store_5125|2022-05-23|2023-03-07|               288|\n",
      "|Store_4938|2022-05-17|2025-01-01|               960|\n",
      "|Store_5390|2022-05-30|2025-01-01|               947|\n",
      "|Store_5168|2022-05-24|2023-08-31|               464|\n",
      "|Store_4960|2022-05-17|2025-01-01|               960|\n",
      "|Store_4719|2022-05-10|2025-01-01|               967|\n",
      "|Store_4435|2022-04-30|2025-01-01|               977|\n",
      "|Store_5133|2022-05-23|2022-06-17|                25|\n",
      "|Store_5067|2022-05-19|2025-01-01|               958|\n",
      "|Store_4984|2022-05-18|2022-11-01|               167|\n",
      "|Store_4882|2022-05-15|2022-05-17|                 2|\n",
      "|Store_4779|2022-05-11|2025-01-01|               966|\n",
      "|Store_4726|2022-05-10|2022-07-09|                60|\n",
      "|Store_5315|2022-05-27|2025-01-01|               950|\n",
      "|Store_4902|2022-05-16|2022-05-16|                 0|\n",
      "|Store_4720|2022-05-10|2022-10-13|               156|\n",
      "|Store_4683|2022-05-09|2022-05-10|                 1|\n",
      "|Store_4687|2022-05-09|2025-01-01|               968|\n",
      "|Store_4632|2022-05-06|2025-01-01|               971|\n",
      "+----------+----------+----------+------------------+\n",
      "only showing top 20 rows\n",
      "\n"
     ]
    }
   ],
   "source": [
    "# If toNow is set to True, the lifespan of each store is monitored up to the current time.\n",
    "lifespan = df_datasample.groupBy('store_id').agg(\n",
    "    min(to_date(col('fromDate'))).alias('startDate'),\n",
    "    max(to_date(col('toDate'))).alias('endDate'),\n",
    "    datediff(max(to_date(col('toDate'))),min(to_date(col('fromDate'))).alias('endDate')).alias('lifespan_in_active')\n",
    ")\n",
    "lifespan.show()\n"
   ]
  },
  {
   "cell_type": "code",
   "execution_count": 21,
   "id": "fd5ea57b-5d84-4ce5-9d5e-21a90f5585a1",
   "metadata": {
    "collapsed": false,
    "jupyter": {
     "outputs_hidden": false,
     "source_hidden": false
    },
    "microsoft": {
     "language": "python",
     "language_group": "synapse_pyspark"
    },
    "nteract": {
     "transient": {
      "deleting": false
     }
    }
   },
   "outputs": [
    {
     "name": "stderr",
     "output_type": "stream",
     "text": [
      "25/01/01 09:09:46 WARN CSVHeaderChecker: CSV header does not conform to the schema.\n",
      " Header: store_id,installHistory,subscriptionHistory\n",
      " Schema: store_id\n",
      "Expected: store_id but found: store_id,installHistory,subscriptionHistory\n",
      "CSV file: file:///Users/macos/Documents/Python/Project-CV/Clearerio/Clearerio_assignment/files/dataset_sample.csv\n",
      "                                                                                \r"
     ]
    },
    {
     "name": "stdout",
     "output_type": "stream",
     "text": [
      "+-----------------+------------+\n",
      "|Subscription_Date|revenueByday|\n",
      "+-----------------+------------+\n",
      "|       2022-05-04|        19.0|\n",
      "|       2022-05-08|        29.0|\n",
      "|       2022-05-09|       148.2|\n",
      "|       2022-05-10|       218.0|\n",
      "|       2022-05-11|       117.0|\n",
      "|       2022-05-12|        29.0|\n",
      "|       2022-05-13|        29.0|\n",
      "|       2022-05-15|       187.0|\n",
      "|       2022-05-16|       308.2|\n",
      "|       2022-05-17|       211.0|\n",
      "|       2022-05-18|       175.0|\n",
      "|       2022-05-19|        57.0|\n",
      "|       2022-05-20|       264.0|\n",
      "|       2022-05-21|        38.0|\n",
      "|       2022-05-22|        76.0|\n",
      "|       2022-05-23|       269.0|\n",
      "|       2022-05-24|       243.0|\n",
      "|       2022-05-25|       370.0|\n",
      "|       2022-05-26|       601.0|\n",
      "|       2022-05-27|       183.0|\n",
      "+-----------------+------------+\n",
      "only showing top 20 rows\n",
      "\n"
     ]
    }
   ],
   "source": [
    "# Total revenue by Supscription_date\n",
    "revenue = df_datasample.select(\n",
    "    col('store_id'),\n",
    "    to_date(col('sub_fromDate')).alias('Subscription_Date'),\n",
    "    col('price')\n",
    ").distinct()\n",
    "\n",
    "revenuebyday = revenue.groupBy('Subscription_Date').agg(\n",
    "    sum(col('price')).alias('revenueByday')\n",
    ")\n",
    "revenuebyday.where(col('revenuebyday').isNotNull()).sort(col('Subscription_Date'),ascending=True).show()"
   ]
  },
  {
   "cell_type": "code",
   "execution_count": 22,
   "id": "e42bfbdd-8fae-473e-8e11-3e3582ebe0e9",
   "metadata": {
    "collapsed": false,
    "jupyter": {
     "outputs_hidden": false,
     "source_hidden": false
    },
    "microsoft": {
     "language": "python",
     "language_group": "synapse_pyspark"
    },
    "nteract": {
     "transient": {
      "deleting": false
     }
    }
   },
   "outputs": [
    {
     "name": "stderr",
     "output_type": "stream",
     "text": [
      "25/01/01 09:09:48 WARN CSVHeaderChecker: CSV header does not conform to the schema.\n",
      " Header: store_id,installHistory,subscriptionHistory\n",
      " Schema: store_id\n",
      "Expected: store_id but found: store_id,installHistory,subscriptionHistory\n",
      "CSV file: file:///Users/macos/Documents/Python/Project-CV/Clearerio/Clearerio_assignment/files/dataset_sample.csv\n"
     ]
    },
    {
     "name": "stdout",
     "output_type": "stream",
     "text": [
      "+-------------+------------+---------------+---------------+\n",
      "|activity_date|Active_Users|New_user_by_day|Uninstall_Users|\n",
      "+-------------+------------+---------------+---------------+\n",
      "|   2022-04-29|           3|              7|              2|\n",
      "|   2022-04-30|           2|             14|              1|\n",
      "|   2022-05-01|           3|             15|              1|\n",
      "|   2022-05-02|           7|             26|              4|\n",
      "|   2022-05-03|          12|             21|              2|\n",
      "|   2022-05-04|           8|             43|              9|\n",
      "|   2022-05-05|           9|             31|              3|\n",
      "|   2022-05-06|           9|             24|              4|\n",
      "|   2022-05-07|           2|             14|              0|\n",
      "|   2022-05-08|           1|             12|              4|\n",
      "|   2022-05-09|          12|             34|              6|\n",
      "|   2022-05-10|          11|             33|              6|\n",
      "|   2022-05-11|          12|             36|              4|\n",
      "|   2022-05-12|          11|             43|              3|\n",
      "|   2022-05-13|           4|             27|              5|\n",
      "|   2022-05-14|           3|             11|              1|\n",
      "|   2022-05-15|           1|             17|              0|\n",
      "|   2022-05-16|           9|             33|             10|\n",
      "|   2022-05-17|          13|             37|              7|\n",
      "|   2022-05-18|           8|             37|              7|\n",
      "+-------------+------------+---------------+---------------+\n",
      "only showing top 20 rows\n",
      "\n"
     ]
    }
   ],
   "source": [
    "# The number of User in status: Active_Users, New_user_by_day and Uninstall_Users by activity_date.\n",
    "df_status = df_datasample.select(\\\n",
    "    col(\"store_id\"),\n",
    "    col(\"toNow\"),\n",
    "    col(\"startType\"),\n",
    "    to_date(col(\"fromDate\")).alias('activity_date'),\n",
    "    col(\"endType\")\n",
    ")\n",
    "status = df_status.groupBy('activity_date').agg(\n",
    "    countDistinct(when(col('toNow') == 'true',col('store_id'))).alias('Active_Users'),\n",
    "    countDistinct(when(col('toNow') == 'false',col('store_id'))).alias('New_user_by_day'),\n",
    "    countDistinct(when(col('endType') == 'CUSTOMER_CANCELLED', col('store_id'))).alias('Uninstall_Users'),\n",
    ")\n",
    "status.sort(col('activity_date'),ascending=True).show()\n"
   ]
  }
 ],
 "metadata": {
  "dependencies": {
   "lakehouse": {
    "default_lakehouse": "9783021d-d94a-4832-8006-5d7653ae35da",
    "default_lakehouse_name": "clearer_lakehouse",
    "default_lakehouse_workspace_id": "9c93a68c-d53a-4e7f-9157-230467edf00c",
    "known_lakehouses": [
     {
      "id": "9783021d-d94a-4832-8006-5d7653ae35da"
     }
    ]
   }
  },
  "kernel_info": {
   "name": "synapse_pyspark"
  },
  "kernelspec": {
   "display_name": "Python 3",
   "language": "python",
   "name": "python3"
  },
  "language_info": {
   "codemirror_mode": {
    "name": "ipython",
    "version": 3
   },
   "file_extension": ".py",
   "mimetype": "text/x-python",
   "name": "python",
   "nbconvert_exporter": "python",
   "pygments_lexer": "ipython3",
   "version": "3.9.6"
  },
  "microsoft": {
   "language": "python",
   "language_group": "synapse_pyspark",
   "ms_spell_check": {
    "ms_spell_check_language": "en"
   }
  },
  "nteract": {
   "version": "nteract-front-end@1.0.0"
  },
  "spark_compute": {
   "compute_id": "/trident/default",
   "session_options": {
    "conf": {
     "spark.synapse.nbs.session.timeout": "1200000"
    }
   }
  },
  "synapse_widget": {
   "state": {
    "5ddd08c4-bc0c-4031-adc7-f0aa9846a8a0": {
     "persist_state": {
      "view": {
       "chartOptions": {
        "aggregationType": "sum",
        "binsNumber": 10,
        "categoryFieldKeys": [],
        "chartType": "bar",
        "evaluatesOverAllRecords": false,
        "isStacked": false,
        "seriesFieldKeys": [
         "1"
        ],
        "wordFrequency": "-1"
       },
       "tableOptions": {},
       "type": "details",
       "viewOptionsGroup": [
        {
         "tabItems": [
          {
           "key": "0",
           "name": "Table",
           "options": {},
           "type": "table"
          }
         ]
        }
       ]
      }
     },
     "sync_state": {
      "isSummary": false,
      "language": "scala",
      "table": {
       "rows": [
        {
         "0": "2022-05-04",
         "1": "19.0"
        },
        {
         "0": "2022-05-08",
         "1": "29.0"
        },
        {
         "0": "2022-05-09",
         "1": "148.2"
        },
        {
         "0": "2022-05-10",
         "1": "218.0"
        },
        {
         "0": "2022-05-11",
         "1": "117.0"
        },
        {
         "0": "2022-05-12",
         "1": "29.0"
        },
        {
         "0": "2022-05-13",
         "1": "29.0"
        },
        {
         "0": "2022-05-15",
         "1": "187.0"
        },
        {
         "0": "2022-05-16",
         "1": "308.2"
        },
        {
         "0": "2022-05-17",
         "1": "211.0"
        },
        {
         "0": "2022-05-18",
         "1": "175.0"
        },
        {
         "0": "2022-05-19",
         "1": "57.0"
        },
        {
         "0": "2022-05-20",
         "1": "264.0"
        },
        {
         "0": "2022-05-21",
         "1": "38.0"
        },
        {
         "0": "2022-05-22",
         "1": "76.0"
        },
        {
         "0": "2022-05-23",
         "1": "269.0"
        },
        {
         "0": "2022-05-24",
         "1": "243.0"
        },
        {
         "0": "2022-05-25",
         "1": "370.0"
        },
        {
         "0": "2022-05-26",
         "1": "601.0"
        },
        {
         "0": "2022-05-27",
         "1": "183.0"
        },
        {
         "0": "2022-05-28",
         "1": "38.0"
        },
        {
         "0": "2022-05-29",
         "1": "107.0"
        },
        {
         "0": "2022-05-30",
         "1": "86.0"
        },
        {
         "0": "2022-05-31",
         "1": "512.0"
        },
        {
         "0": "2022-06-01",
         "1": "259.0"
        },
        {
         "0": "2022-06-02",
         "1": "126.0"
        },
        {
         "0": "2022-06-03",
         "1": "97.0"
        },
        {
         "0": "2022-06-04",
         "1": "38.0"
        },
        {
         "0": "2022-06-06",
         "1": "329.0"
        },
        {
         "0": "2022-06-07",
         "1": "519.0"
        },
        {
         "0": "2022-06-08",
         "1": "1023.2"
        },
        {
         "0": "2022-06-09",
         "1": "254.0"
        },
        {
         "0": "2022-06-10",
         "1": "76.0"
        },
        {
         "0": "2022-06-11",
         "1": "138.0"
        },
        {
         "0": "2022-06-12",
         "1": "68.0"
        },
        {
         "0": "2022-06-13",
         "1": "322.0"
        },
        {
         "0": "2022-06-14",
         "1": "271.0"
        },
        {
         "0": "2022-06-15",
         "1": "88.0"
        },
        {
         "0": "2022-06-16",
         "1": "88.0"
        },
        {
         "0": "2022-06-17",
         "1": "282.0"
        },
        {
         "0": "2022-06-18",
         "1": "118.0"
        },
        {
         "0": "2022-06-20",
         "1": "174.0"
        },
        {
         "0": "2022-06-21",
         "1": "552.0"
        },
        {
         "0": "2022-06-22",
         "1": "166.0"
        },
        {
         "0": "2022-06-23",
         "1": "76.0"
        },
        {
         "0": "2022-06-24",
         "1": "38.0"
        },
        {
         "0": "2022-06-27",
         "1": "19.0"
        },
        {
         "0": "2022-06-29",
         "1": "118.0"
        },
        {
         "0": "2022-06-30",
         "1": "95.0"
        },
        {
         "0": "2022-07-02",
         "1": "19.0"
        },
        {
         "0": "2022-07-03",
         "1": "48.0"
        },
        {
         "0": "2022-07-04",
         "1": "19.0"
        },
        {
         "0": "2022-07-05",
         "1": "423.2"
        },
        {
         "0": "2022-07-06",
         "1": "19.0"
        },
        {
         "0": "2022-07-07",
         "1": "375.0"
        },
        {
         "0": "2022-07-08",
         "1": "38.0"
        },
        {
         "0": "2022-07-10",
         "1": "19.0"
        },
        {
         "0": "2022-07-11",
         "1": "69.0"
        },
        {
         "0": "2022-07-12",
         "1": "67.0"
        },
        {
         "0": "2022-07-13",
         "1": "117.0"
        },
        {
         "0": "2022-07-14",
         "1": "38.0"
        },
        {
         "0": "2022-07-17",
         "1": "29.0"
        },
        {
         "0": "2022-07-18",
         "1": "38.0"
        },
        {
         "0": "2022-07-20",
         "1": "19.0"
        },
        {
         "0": "2022-07-21",
         "1": "127.0"
        },
        {
         "0": "2022-07-22",
         "1": "19.0"
        },
        {
         "0": "2022-07-23",
         "1": "19.0"
        },
        {
         "0": "2022-07-31",
         "1": "69.0"
        },
        {
         "0": "2022-08-01",
         "1": "67.0"
        },
        {
         "0": "2022-08-02",
         "1": "117.0"
        },
        {
         "0": "2022-08-04",
         "1": "38.0"
        },
        {
         "0": "2022-08-05",
         "1": "98.0"
        },
        {
         "0": "2022-08-08",
         "1": "19.0"
        },
        {
         "0": "2022-08-09",
         "1": "19.0"
        },
        {
         "0": "2022-08-10",
         "1": "69.0"
        },
        {
         "0": "2022-08-11",
         "1": "19.0"
        },
        {
         "0": "2022-08-14",
         "1": "19.0"
        },
        {
         "0": "2022-08-16",
         "1": "29.0"
        },
        {
         "0": "2022-08-19",
         "1": "19.0"
        },
        {
         "0": "2022-08-22",
         "1": "19.0"
        },
        {
         "0": "2022-08-26",
         "1": "19.0"
        },
        {
         "0": "2022-08-27",
         "1": "19.0"
        },
        {
         "0": "2022-09-01",
         "1": "68.0"
        },
        {
         "0": "2022-09-05",
         "1": "19.0"
        },
        {
         "0": "2022-09-07",
         "1": "29.0"
        },
        {
         "0": "2022-09-22",
         "1": "29.0"
        },
        {
         "0": "2022-09-26",
         "1": "19.0"
        },
        {
         "0": "2022-09-28",
         "1": "79.0"
        },
        {
         "0": "2022-10-10",
         "1": "19.0"
        },
        {
         "0": "2022-10-22",
         "1": "49.0"
        },
        {
         "0": "2022-10-25",
         "1": "119.0"
        },
        {
         "0": "2022-10-28",
         "1": "19.0"
        },
        {
         "0": "2022-11-02",
         "1": "29.0"
        },
        {
         "0": "2022-11-12",
         "1": "19.0"
        },
        {
         "0": "2022-11-14",
         "1": "29.0"
        },
        {
         "0": "2022-11-18",
         "1": "19.0"
        },
        {
         "0": "2022-11-28",
         "1": "19.0"
        },
        {
         "0": "2022-12-17",
         "1": "19.0"
        },
        {
         "0": "2023-01-16",
         "1": "19.0"
        },
        {
         "0": "2023-01-18",
         "1": "49.0"
        },
        {
         "0": "2023-01-28",
         "1": "49.0"
        },
        {
         "0": "2023-02-16",
         "1": "19.0"
        },
        {
         "0": "2023-03-09",
         "1": "19.0"
        },
        {
         "0": "2023-05-22",
         "1": "19.0"
        },
        {
         "0": "2023-08-04",
         "1": "29.0"
        },
        {
         "0": "2023-08-11",
         "1": "19.0"
        },
        {
         "0": "2023-08-23",
         "1": "109.0"
        },
        {
         "0": "2024-01-06",
         "1": "29.0"
        },
        {
         "0": "2024-01-24",
         "1": "19.0"
        },
        {
         "0": "2024-03-06",
         "1": "19.0"
        },
        {
         "0": "2024-03-11",
         "1": "69.0"
        },
        {
         "0": "2024-04-22",
         "1": "149.0"
        }
       ],
       "schema": [
        {
         "key": "0",
         "name": "Subscription_Date",
         "type": "date"
        },
        {
         "key": "1",
         "name": "revenueByday",
         "type": "double"
        }
       ],
       "truncated": false
      },
      "wranglerEntryContext": {
       "dataframeType": "pyspark"
      }
     },
     "type": "Synapse.DataFrame"
    },
    "e89e035f-947c-4873-9a8f-77b94c4dcec0": {
     "persist_state": {
      "view": {
       "chartOptions": {
        "aggregationType": "count",
        "binsNumber": 10,
        "categoryFieldKeys": [],
        "chartType": "bar",
        "evaluatesOverAllRecords": false,
        "isStacked": false,
        "seriesFieldKeys": [
         "0"
        ],
        "wordFrequency": "-1"
       },
       "tableOptions": {},
       "type": "details",
       "viewOptionsGroup": [
        {
         "tabItems": [
          {
           "key": "0",
           "name": "Table",
           "options": {},
           "type": "table"
          }
         ]
        }
       ]
      }
     },
     "sync_state": {
      "isSummary": false,
      "language": "scala",
      "table": {
       "rows": [
        {
         "0": "2022-04-29",
         "1": "3",
         "2": "7",
         "3": "2"
        },
        {
         "0": "2022-04-30",
         "1": "2",
         "2": "14",
         "3": "1"
        },
        {
         "0": "2022-05-01",
         "1": "3",
         "2": "15",
         "3": "1"
        },
        {
         "0": "2022-05-02",
         "1": "7",
         "2": "26",
         "3": "4"
        },
        {
         "0": "2022-05-03",
         "1": "12",
         "2": "21",
         "3": "2"
        },
        {
         "0": "2022-05-04",
         "1": "8",
         "2": "43",
         "3": "9"
        },
        {
         "0": "2022-05-05",
         "1": "9",
         "2": "31",
         "3": "3"
        },
        {
         "0": "2022-05-06",
         "1": "9",
         "2": "24",
         "3": "4"
        },
        {
         "0": "2022-05-07",
         "1": "2",
         "2": "14",
         "3": "0"
        },
        {
         "0": "2022-05-08",
         "1": "1",
         "2": "12",
         "3": "4"
        },
        {
         "0": "2022-05-09",
         "1": "12",
         "2": "34",
         "3": "6"
        },
        {
         "0": "2022-05-10",
         "1": "11",
         "2": "33",
         "3": "6"
        },
        {
         "0": "2022-05-11",
         "1": "12",
         "2": "36",
         "3": "4"
        },
        {
         "0": "2022-05-12",
         "1": "11",
         "2": "43",
         "3": "3"
        },
        {
         "0": "2022-05-13",
         "1": "4",
         "2": "27",
         "3": "5"
        },
        {
         "0": "2022-05-14",
         "1": "3",
         "2": "11",
         "3": "1"
        },
        {
         "0": "2022-05-15",
         "1": "1",
         "2": "17",
         "3": "0"
        },
        {
         "0": "2022-05-16",
         "1": "9",
         "2": "33",
         "3": "10"
        },
        {
         "0": "2022-05-17",
         "1": "13",
         "2": "37",
         "3": "7"
        },
        {
         "0": "2022-05-18",
         "1": "8",
         "2": "37",
         "3": "7"
        },
        {
         "0": "2022-05-19",
         "1": "11",
         "2": "39",
         "3": "5"
        },
        {
         "0": "2022-05-20",
         "1": "7",
         "2": "26",
         "3": "3"
        },
        {
         "0": "2022-05-21",
         "1": "4",
         "2": "10",
         "3": "0"
        },
        {
         "0": "2022-05-22",
         "1": "2",
         "2": "8",
         "3": "2"
        },
        {
         "0": "2022-05-23",
         "1": "12",
         "2": "40",
         "3": "4"
        },
        {
         "0": "2022-05-24",
         "1": "20",
         "2": "49",
         "3": "5"
        },
        {
         "0": "2022-05-25",
         "1": "6",
         "2": "35",
         "3": "6"
        },
        {
         "0": "2022-05-26",
         "1": "17",
         "2": "46",
         "3": "6"
        },
        {
         "0": "2022-05-27",
         "1": "13",
         "2": "21",
         "3": "1"
        },
        {
         "0": "2022-05-28",
         "1": "3",
         "2": "9",
         "3": "2"
        },
        {
         "0": "2022-05-29",
         "1": "2",
         "2": "19",
         "3": "2"
        },
        {
         "0": "2022-05-30",
         "1": "12",
         "2": "32",
         "3": "3"
        },
        {
         "0": "2022-05-31",
         "1": "3",
         "2": "4",
         "3": "0"
        },
        {
         "0": "2022-06-01",
         "1": "0",
         "2": "4",
         "3": "2"
        },
        {
         "0": "2022-06-02",
         "1": "0",
         "2": "4",
         "3": "2"
        },
        {
         "0": "2022-06-04",
         "1": "0",
         "2": "1",
         "3": "0"
        },
        {
         "0": "2022-06-06",
         "1": "0",
         "2": "4",
         "3": "1"
        },
        {
         "0": "2022-06-07",
         "1": "1",
         "2": "0",
         "3": "0"
        },
        {
         "0": "2022-06-08",
         "1": "1",
         "2": "2",
         "3": "0"
        },
        {
         "0": "2022-06-09",
         "1": "2",
         "2": "2",
         "3": "0"
        },
        {
         "0": "2022-06-10",
         "1": "2",
         "2": "2",
         "3": "0"
        },
        {
         "0": "2022-06-11",
         "1": "0",
         "2": "1",
         "3": "0"
        },
        {
         "0": "2022-06-12",
         "1": "0",
         "2": "1",
         "3": "0"
        },
        {
         "0": "2022-06-13",
         "1": "0",
         "2": "3",
         "3": "1"
        },
        {
         "0": "2022-06-14",
         "1": "0",
         "2": "1",
         "3": "0"
        },
        {
         "0": "2022-06-15",
         "1": "1",
         "2": "1",
         "3": "0"
        },
        {
         "0": "2022-06-16",
         "1": "1",
         "2": "0",
         "3": "0"
        },
        {
         "0": "2022-06-17",
         "1": "0",
         "2": "2",
         "3": "0"
        },
        {
         "0": "2022-06-18",
         "1": "0",
         "2": "1",
         "3": "0"
        },
        {
         "0": "2022-06-19",
         "1": "0",
         "2": "2",
         "3": "0"
        },
        {
         "0": "2022-06-20",
         "1": "0",
         "2": "2",
         "3": "0"
        },
        {
         "0": "2022-06-21",
         "1": "0",
         "2": "2",
         "3": "0"
        },
        {
         "0": "2022-06-22",
         "1": "1",
         "2": "0",
         "3": "0"
        },
        {
         "0": "2022-06-23",
         "1": "0",
         "2": "1",
         "3": "0"
        },
        {
         "0": "2022-06-24",
         "1": "0",
         "2": "1",
         "3": "0"
        },
        {
         "0": "2022-06-27",
         "1": "1",
         "2": "1",
         "3": "0"
        },
        {
         "0": "2022-06-28",
         "1": "1",
         "2": "1",
         "3": "0"
        },
        {
         "0": "2022-06-29",
         "1": "2",
         "2": "1",
         "3": "0"
        },
        {
         "0": "2022-06-30",
         "1": "1",
         "2": "1",
         "3": "0"
        },
        {
         "0": "2022-07-01",
         "1": "1",
         "2": "3",
         "3": "2"
        },
        {
         "0": "2022-07-02",
         "1": "0",
         "2": "1",
         "3": "1"
        },
        {
         "0": "2022-07-04",
         "1": "0",
         "2": "1",
         "3": "0"
        },
        {
         "0": "2022-07-05",
         "1": "0",
         "2": "1",
         "3": "0"
        },
        {
         "0": "2022-07-08",
         "1": "0",
         "2": "1",
         "3": "0"
        },
        {
         "0": "2022-07-09",
         "1": "0",
         "2": "2",
         "3": "0"
        },
        {
         "0": "2022-07-11",
         "1": "0",
         "2": "3",
         "3": "1"
        },
        {
         "0": "2022-07-12",
         "1": "1",
         "2": "2",
         "3": "0"
        },
        {
         "0": "2022-07-13",
         "1": "1",
         "2": "0",
         "3": "0"
        },
        {
         "0": "2022-07-14",
         "1": "0",
         "2": "2",
         "3": "0"
        },
        {
         "0": "2022-07-15",
         "1": "0",
         "2": "1",
         "3": "1"
        },
        {
         "0": "2022-07-18",
         "1": "0",
         "2": "1",
         "3": "0"
        },
        {
         "0": "2022-07-20",
         "1": "1",
         "2": "0",
         "3": "0"
        },
        {
         "0": "2022-07-21",
         "1": "1",
         "2": "0",
         "3": "0"
        },
        {
         "0": "2022-07-22",
         "1": "0",
         "2": "1",
         "3": "0"
        },
        {
         "0": "2022-07-23",
         "1": "0",
         "2": "1",
         "3": "0"
        },
        {
         "0": "2022-07-29",
         "1": "0",
         "2": "1",
         "3": "1"
        },
        {
         "0": "2022-08-02",
         "1": "0",
         "2": "2",
         "3": "1"
        },
        {
         "0": "2022-08-03",
         "1": "0",
         "2": "1",
         "3": "0"
        },
        {
         "0": "2022-08-05",
         "1": "1",
         "2": "0",
         "3": "0"
        },
        {
         "0": "2022-08-08",
         "1": "0",
         "2": "1",
         "3": "0"
        },
        {
         "0": "2022-08-10",
         "1": "0",
         "2": "1",
         "3": "0"
        },
        {
         "0": "2022-08-16",
         "1": "2",
         "2": "1",
         "3": "1"
        },
        {
         "0": "2022-08-17",
         "1": "0",
         "2": "1",
         "3": "0"
        },
        {
         "0": "2022-08-18",
         "1": "0",
         "2": "3",
         "3": "1"
        },
        {
         "0": "2022-08-20",
         "1": "0",
         "2": "2",
         "3": "0"
        },
        {
         "0": "2022-08-21",
         "1": "2",
         "2": "1",
         "3": "0"
        },
        {
         "0": "2022-08-23",
         "1": "0",
         "2": "1",
         "3": "0"
        },
        {
         "0": "2022-08-26",
         "1": "0",
         "2": "1",
         "3": "0"
        },
        {
         "0": "2022-08-28",
         "1": "0",
         "2": "1",
         "3": "0"
        },
        {
         "0": "2022-08-29",
         "1": "0",
         "2": "2",
         "3": "2"
        },
        {
         "0": "2022-09-01",
         "1": "0",
         "2": "1",
         "3": "0"
        },
        {
         "0": "2022-09-05",
         "1": "0",
         "2": "1",
         "3": "0"
        },
        {
         "0": "2022-09-06",
         "1": "1",
         "2": "3",
         "3": "1"
        },
        {
         "0": "2022-09-07",
         "1": "1",
         "2": "0",
         "3": "0"
        },
        {
         "0": "2022-09-09",
         "1": "0",
         "2": "1",
         "3": "1"
        },
        {
         "0": "2022-09-12",
         "1": "0",
         "2": "1",
         "3": "0"
        },
        {
         "0": "2022-09-13",
         "1": "0",
         "2": "1",
         "3": "0"
        },
        {
         "0": "2022-09-14",
         "1": "0",
         "2": "2",
         "3": "0"
        },
        {
         "0": "2022-09-15",
         "1": "0",
         "2": "1",
         "3": "0"
        },
        {
         "0": "2022-09-16",
         "1": "0",
         "2": "1",
         "3": "0"
        },
        {
         "0": "2022-09-17",
         "1": "0",
         "2": "1",
         "3": "0"
        },
        {
         "0": "2022-09-19",
         "1": "0",
         "2": "1",
         "3": "0"
        },
        {
         "0": "2022-09-21",
         "1": "1",
         "2": "0",
         "3": "0"
        },
        {
         "0": "2022-09-22",
         "1": "0",
         "2": "1",
         "3": "1"
        },
        {
         "0": "2022-09-23",
         "1": "0",
         "2": "2",
         "3": "1"
        },
        {
         "0": "2022-09-26",
         "1": "0",
         "2": "1",
         "3": "0"
        },
        {
         "0": "2022-09-28",
         "1": "0",
         "2": "1",
         "3": "0"
        },
        {
         "0": "2022-10-02",
         "1": "0",
         "2": "1",
         "3": "0"
        },
        {
         "0": "2022-10-03",
         "1": "0",
         "2": "1",
         "3": "0"
        },
        {
         "0": "2022-10-05",
         "1": "0",
         "2": "1",
         "3": "0"
        },
        {
         "0": "2022-10-07",
         "1": "0",
         "2": "2",
         "3": "0"
        },
        {
         "0": "2022-10-09",
         "1": "0",
         "2": "2",
         "3": "0"
        },
        {
         "0": "2022-10-10",
         "1": "1",
         "2": "0",
         "3": "0"
        },
        {
         "0": "2022-10-11",
         "1": "0",
         "2": "1",
         "3": "1"
        },
        {
         "0": "2022-10-14",
         "1": "0",
         "2": "1",
         "3": "0"
        },
        {
         "0": "2022-10-16",
         "1": "0",
         "2": "1",
         "3": "0"
        },
        {
         "0": "2022-10-17",
         "1": "0",
         "2": "1",
         "3": "1"
        },
        {
         "0": "2022-10-18",
         "1": "1",
         "2": "0",
         "3": "0"
        },
        {
         "0": "2022-10-19",
         "1": "0",
         "2": "1",
         "3": "0"
        },
        {
         "0": "2022-10-20",
         "1": "0",
         "2": "1",
         "3": "1"
        },
        {
         "0": "2022-10-21",
         "1": "0",
         "2": "2",
         "3": "0"
        },
        {
         "0": "2022-10-28",
         "1": "2",
         "2": "0",
         "3": "0"
        },
        {
         "0": "2022-11-02",
         "1": "0",
         "2": "1",
         "3": "0"
        },
        {
         "0": "2022-11-04",
         "1": "0",
         "2": "1",
         "3": "0"
        },
        {
         "0": "2022-11-05",
         "1": "1",
         "2": "0",
         "3": "0"
        },
        {
         "0": "2022-11-14",
         "1": "0",
         "2": "1",
         "3": "0"
        },
        {
         "0": "2022-11-18",
         "1": "1",
         "2": "0",
         "3": "0"
        },
        {
         "0": "2022-11-20",
         "1": "0",
         "2": "1",
         "3": "0"
        },
        {
         "0": "2022-11-22",
         "1": "0",
         "2": "1",
         "3": "0"
        },
        {
         "0": "2022-11-23",
         "1": "0",
         "2": "1",
         "3": "0"
        },
        {
         "0": "2022-11-25",
         "1": "0",
         "2": "1",
         "3": "0"
        },
        {
         "0": "2022-11-29",
         "1": "0",
         "2": "1",
         "3": "0"
        },
        {
         "0": "2022-11-30",
         "1": "0",
         "2": "1",
         "3": "0"
        },
        {
         "0": "2022-12-03",
         "1": "0",
         "2": "1",
         "3": "0"
        },
        {
         "0": "2022-12-04",
         "1": "0",
         "2": "1",
         "3": "0"
        },
        {
         "0": "2022-12-06",
         "1": "0",
         "2": "1",
         "3": "1"
        },
        {
         "0": "2022-12-13",
         "1": "0",
         "2": "1",
         "3": "0"
        },
        {
         "0": "2022-12-14",
         "1": "0",
         "2": "1",
         "3": "0"
        },
        {
         "0": "2022-12-19",
         "1": "1",
         "2": "1",
         "3": "0"
        },
        {
         "0": "2022-12-21",
         "1": "1",
         "2": "1",
         "3": "0"
        },
        {
         "0": "2022-12-23",
         "1": "1",
         "2": "0",
         "3": "0"
        },
        {
         "0": "2022-12-27",
         "1": "0",
         "2": "1",
         "3": "0"
        },
        {
         "0": "2022-12-30",
         "1": "0",
         "2": "1",
         "3": "1"
        },
        {
         "0": "2023-01-10",
         "1": "0",
         "2": "2",
         "3": "1"
        },
        {
         "0": "2023-01-20",
         "1": "0",
         "2": "1",
         "3": "0"
        },
        {
         "0": "2023-01-25",
         "1": "0",
         "2": "1",
         "3": "0"
        },
        {
         "0": "2023-01-26",
         "1": "1",
         "2": "0",
         "3": "0"
        },
        {
         "0": "2023-01-27",
         "1": "0",
         "2": "1",
         "3": "0"
        },
        {
         "0": "2023-01-28",
         "1": "0",
         "2": "2",
         "3": "1"
        },
        {
         "0": "2023-01-29",
         "1": "0",
         "2": "1",
         "3": "0"
        },
        {
         "0": "2023-01-31",
         "1": "0",
         "2": "1",
         "3": "0"
        },
        {
         "0": "2023-02-03",
         "1": "0",
         "2": "3",
         "3": "0"
        },
        {
         "0": "2023-02-07",
         "1": "0",
         "2": "1",
         "3": "0"
        },
        {
         "0": "2023-02-14",
         "1": "0",
         "2": "1",
         "3": "0"
        },
        {
         "0": "2023-02-16",
         "1": "0",
         "2": "1",
         "3": "1"
        },
        {
         "0": "2023-02-17",
         "1": "0",
         "2": "2",
         "3": "0"
        },
        {
         "0": "2023-02-20",
         "1": "0",
         "2": "1",
         "3": "0"
        },
        {
         "0": "2023-02-24",
         "1": "2",
         "2": "0",
         "3": "0"
        },
        {
         "0": "2023-03-01",
         "1": "0",
         "2": "1",
         "3": "0"
        },
        {
         "0": "2023-03-09",
         "1": "0",
         "2": "1",
         "3": "0"
        },
        {
         "0": "2023-03-10",
         "1": "0",
         "2": "1",
         "3": "0"
        },
        {
         "0": "2023-03-13",
         "1": "0",
         "2": "1",
         "3": "0"
        },
        {
         "0": "2023-03-14",
         "1": "0",
         "2": "1",
         "3": "0"
        },
        {
         "0": "2023-03-18",
         "1": "0",
         "2": "1",
         "3": "0"
        },
        {
         "0": "2023-03-20",
         "1": "0",
         "2": "1",
         "3": "0"
        },
        {
         "0": "2023-03-30",
         "1": "0",
         "2": "1",
         "3": "0"
        },
        {
         "0": "2023-04-02",
         "1": "1",
         "2": "0",
         "3": "0"
        },
        {
         "0": "2023-04-08",
         "1": "0",
         "2": "1",
         "3": "0"
        },
        {
         "0": "2023-04-16",
         "1": "0",
         "2": "1",
         "3": "0"
        },
        {
         "0": "2023-04-19",
         "1": "1",
         "2": "1",
         "3": "0"
        },
        {
         "0": "2023-04-21",
         "1": "0",
         "2": "1",
         "3": "0"
        },
        {
         "0": "2023-04-24",
         "1": "0",
         "2": "1",
         "3": "0"
        },
        {
         "0": "2023-04-26",
         "1": "0",
         "2": "2",
         "3": "0"
        },
        {
         "0": "2023-05-02",
         "1": "0",
         "2": "2",
         "3": "0"
        },
        {
         "0": "2023-05-07",
         "1": "0",
         "2": "2",
         "3": "0"
        },
        {
         "0": "2023-05-10",
         "1": "0",
         "2": "1",
         "3": "0"
        },
        {
         "0": "2023-05-12",
         "1": "1",
         "2": "1",
         "3": "0"
        },
        {
         "0": "2023-05-15",
         "1": "0",
         "2": "1",
         "3": "0"
        },
        {
         "0": "2023-05-17",
         "1": "1",
         "2": "2",
         "3": "0"
        },
        {
         "0": "2023-05-18",
         "1": "0",
         "2": "1",
         "3": "0"
        },
        {
         "0": "2023-05-20",
         "1": "0",
         "2": "1",
         "3": "0"
        },
        {
         "0": "2023-05-22",
         "1": "0",
         "2": "2",
         "3": "0"
        },
        {
         "0": "2023-05-23",
         "1": "1",
         "2": "1",
         "3": "0"
        },
        {
         "0": "2023-05-27",
         "1": "0",
         "2": "1",
         "3": "0"
        },
        {
         "0": "2023-06-01",
         "1": "0",
         "2": "1",
         "3": "0"
        },
        {
         "0": "2023-06-02",
         "1": "0",
         "2": "1",
         "3": "0"
        },
        {
         "0": "2023-06-06",
         "1": "0",
         "2": "1",
         "3": "0"
        },
        {
         "0": "2023-06-08",
         "1": "0",
         "2": "2",
         "3": "0"
        },
        {
         "0": "2023-06-12",
         "1": "0",
         "2": "1",
         "3": "0"
        },
        {
         "0": "2023-06-19",
         "1": "0",
         "2": "1",
         "3": "0"
        },
        {
         "0": "2023-06-22",
         "1": "0",
         "2": "1",
         "3": "0"
        },
        {
         "0": "2023-06-24",
         "1": "0",
         "2": "1",
         "3": "0"
        },
        {
         "0": "2023-06-27",
         "1": "0",
         "2": "2",
         "3": "0"
        },
        {
         "0": "2023-06-28",
         "1": "0",
         "2": "2",
         "3": "0"
        },
        {
         "0": "2023-06-29",
         "1": "0",
         "2": "1",
         "3": "0"
        },
        {
         "0": "2023-07-02",
         "1": "0",
         "2": "1",
         "3": "1"
        },
        {
         "0": "2023-07-04",
         "1": "0",
         "2": "1",
         "3": "0"
        },
        {
         "0": "2023-07-07",
         "1": "0",
         "2": "2",
         "3": "0"
        },
        {
         "0": "2023-07-09",
         "1": "0",
         "2": "1",
         "3": "0"
        },
        {
         "0": "2023-07-14",
         "1": "0",
         "2": "1",
         "3": "0"
        },
        {
         "0": "2023-07-19",
         "1": "0",
         "2": "1",
         "3": "0"
        },
        {
         "0": "2023-07-20",
         "1": "0",
         "2": "1",
         "3": "0"
        },
        {
         "0": "2023-07-23",
         "1": "0",
         "2": "1",
         "3": "0"
        },
        {
         "0": "2023-07-24",
         "1": "0",
         "2": "1",
         "3": "0"
        },
        {
         "0": "2023-07-25",
         "1": "1",
         "2": "1",
         "3": "0"
        },
        {
         "0": "2023-07-26",
         "1": "0",
         "2": "1",
         "3": "0"
        },
        {
         "0": "2023-07-27",
         "1": "0",
         "2": "1",
         "3": "0"
        },
        {
         "0": "2023-07-28",
         "1": "1",
         "2": "1",
         "3": "1"
        },
        {
         "0": "2023-07-29",
         "1": "0",
         "2": "1",
         "3": "0"
        },
        {
         "0": "2023-07-31",
         "1": "0",
         "2": "1",
         "3": "0"
        },
        {
         "0": "2023-08-01",
         "1": "0",
         "2": "2",
         "3": "1"
        },
        {
         "0": "2023-08-03",
         "1": "0",
         "2": "1",
         "3": "0"
        },
        {
         "0": "2023-08-05",
         "1": "0",
         "2": "1",
         "3": "1"
        },
        {
         "0": "2023-08-11",
         "1": "0",
         "2": "1",
         "3": "1"
        },
        {
         "0": "2023-08-23",
         "1": "0",
         "2": "2",
         "3": "1"
        },
        {
         "0": "2023-08-24",
         "1": "0",
         "2": "1",
         "3": "0"
        },
        {
         "0": "2023-08-31",
         "1": "0",
         "2": "1",
         "3": "0"
        },
        {
         "0": "2023-09-04",
         "1": "0",
         "2": "1",
         "3": "0"
        },
        {
         "0": "2023-09-06",
         "1": "0",
         "2": "1",
         "3": "0"
        },
        {
         "0": "2023-09-08",
         "1": "1",
         "2": "1",
         "3": "0"
        },
        {
         "0": "2023-09-14",
         "1": "0",
         "2": "1",
         "3": "0"
        },
        {
         "0": "2023-09-20",
         "1": "0",
         "2": "1",
         "3": "0"
        },
        {
         "0": "2023-09-21",
         "1": "0",
         "2": "1",
         "3": "0"
        },
        {
         "0": "2023-09-22",
         "1": "0",
         "2": "1",
         "3": "1"
        },
        {
         "0": "2023-09-23",
         "1": "0",
         "2": "1",
         "3": "0"
        },
        {
         "0": "2023-09-24",
         "1": "0",
         "2": "1",
         "3": "0"
        },
        {
         "0": "2023-09-27",
         "1": "0",
         "2": "1",
         "3": "0"
        },
        {
         "0": "2023-09-29",
         "1": "0",
         "2": "1",
         "3": "0"
        },
        {
         "0": "2023-10-03",
         "1": "0",
         "2": "1",
         "3": "0"
        },
        {
         "0": "2023-10-07",
         "1": "0",
         "2": "1",
         "3": "0"
        },
        {
         "0": "2023-10-12",
         "1": "1",
         "2": "1",
         "3": "0"
        },
        {
         "0": "2023-10-16",
         "1": "1",
         "2": "0",
         "3": "0"
        },
        {
         "0": "2023-10-17",
         "1": "0",
         "2": "1",
         "3": "0"
        },
        {
         "0": "2023-10-22",
         "1": "0",
         "2": "1",
         "3": "0"
        },
        {
         "0": "2023-10-25",
         "1": "0",
         "2": "1",
         "3": "0"
        },
        {
         "0": "2023-10-26",
         "1": "0",
         "2": "1",
         "3": "0"
        },
        {
         "0": "2023-10-28",
         "1": "0",
         "2": "1",
         "3": "0"
        },
        {
         "0": "2023-11-01",
         "1": "0",
         "2": "1",
         "3": "0"
        },
        {
         "0": "2023-11-04",
         "1": "0",
         "2": "1",
         "3": "1"
        },
        {
         "0": "2023-11-05",
         "1": "0",
         "2": "1",
         "3": "0"
        },
        {
         "0": "2023-11-06",
         "1": "1",
         "2": "1",
         "3": "0"
        },
        {
         "0": "2023-11-07",
         "1": "1",
         "2": "1",
         "3": "0"
        },
        {
         "0": "2023-11-10",
         "1": "0",
         "2": "1",
         "3": "0"
        },
        {
         "0": "2023-11-12",
         "1": "1",
         "2": "0",
         "3": "0"
        },
        {
         "0": "2023-11-15",
         "1": "0",
         "2": "1",
         "3": "0"
        },
        {
         "0": "2023-11-16",
         "1": "1",
         "2": "0",
         "3": "0"
        },
        {
         "0": "2023-11-20",
         "1": "0",
         "2": "1",
         "3": "0"
        },
        {
         "0": "2023-11-25",
         "1": "0",
         "2": "1",
         "3": "0"
        },
        {
         "0": "2023-11-30",
         "1": "0",
         "2": "1",
         "3": "0"
        },
        {
         "0": "2023-12-02",
         "1": "0",
         "2": "1",
         "3": "0"
        },
        {
         "0": "2023-12-05",
         "1": "0",
         "2": "1",
         "3": "0"
        },
        {
         "0": "2023-12-07",
         "1": "0",
         "2": "2",
         "3": "1"
        },
        {
         "0": "2023-12-10",
         "1": "0",
         "2": "1",
         "3": "0"
        },
        {
         "0": "2023-12-15",
         "1": "0",
         "2": "1",
         "3": "0"
        },
        {
         "0": "2023-12-19",
         "1": "1",
         "2": "0",
         "3": "0"
        },
        {
         "0": "2023-12-20",
         "1": "0",
         "2": "1",
         "3": "0"
        },
        {
         "0": "2023-12-22",
         "1": "0",
         "2": "1",
         "3": "0"
        },
        {
         "0": "2023-12-25",
         "1": "1",
         "2": "1",
         "3": "0"
        },
        {
         "0": "2023-12-26",
         "1": "0",
         "2": "1",
         "3": "0"
        },
        {
         "0": "2023-12-27",
         "1": "0",
         "2": "1",
         "3": "0"
        },
        {
         "0": "2023-12-30",
         "1": "0",
         "2": "1",
         "3": "0"
        },
        {
         "0": "2023-12-31",
         "1": "0",
         "2": "1",
         "3": "0"
        },
        {
         "0": "2024-01-01",
         "1": "0",
         "2": "1",
         "3": "0"
        },
        {
         "0": "2024-01-05",
         "1": "1",
         "2": "0",
         "3": "0"
        },
        {
         "0": "2024-01-06",
         "1": "0",
         "2": "2",
         "3": "0"
        },
        {
         "0": "2024-01-11",
         "1": "0",
         "2": "1",
         "3": "0"
        },
        {
         "0": "2024-01-16",
         "1": "0",
         "2": "1",
         "3": "0"
        },
        {
         "0": "2024-01-17",
         "1": "0",
         "2": "1",
         "3": "0"
        },
        {
         "0": "2024-01-21",
         "1": "0",
         "2": "1",
         "3": "0"
        },
        {
         "0": "2024-01-22",
         "1": "1",
         "2": "0",
         "3": "0"
        },
        {
         "0": "2024-01-23",
         "1": "0",
         "2": "1",
         "3": "0"
        },
        {
         "0": "2024-01-24",
         "1": "0",
         "2": "1",
         "3": "0"
        },
        {
         "0": "2024-02-02",
         "1": "0",
         "2": "1",
         "3": "0"
        },
        {
         "0": "2024-02-13",
         "1": "0",
         "2": "1",
         "3": "0"
        },
        {
         "0": "2024-02-21",
         "1": "0",
         "2": "1",
         "3": "0"
        },
        {
         "0": "2024-02-23",
         "1": "0",
         "2": "1",
         "3": "0"
        },
        {
         "0": "2024-02-29",
         "1": "0",
         "2": "1",
         "3": "0"
        },
        {
         "0": "2024-03-01",
         "1": "0",
         "2": "1",
         "3": "0"
        },
        {
         "0": "2024-03-06",
         "1": "0",
         "2": "1",
         "3": "1"
        },
        {
         "0": "2024-03-08",
         "1": "0",
         "2": "1",
         "3": "0"
        },
        {
         "0": "2024-03-09",
         "1": "0",
         "2": "1",
         "3": "0"
        },
        {
         "0": "2024-03-11",
         "1": "0",
         "2": "1",
         "3": "1"
        },
        {
         "0": "2024-03-12",
         "1": "1",
         "2": "0",
         "3": "0"
        },
        {
         "0": "2024-03-15",
         "1": "1",
         "2": "0",
         "3": "0"
        },
        {
         "0": "2024-03-16",
         "1": "1",
         "2": "0",
         "3": "0"
        },
        {
         "0": "2024-03-18",
         "1": "0",
         "2": "1",
         "3": "0"
        },
        {
         "0": "2024-03-20",
         "1": "1",
         "2": "0",
         "3": "0"
        },
        {
         "0": "2024-03-26",
         "1": "1",
         "2": "0",
         "3": "0"
        },
        {
         "0": "2024-04-01",
         "1": "0",
         "2": "1",
         "3": "0"
        },
        {
         "0": "2024-04-11",
         "1": "1",
         "2": "0",
         "3": "0"
        },
        {
         "0": "2024-04-15",
         "1": "1",
         "2": "0",
         "3": "0"
        },
        {
         "0": "2024-04-24",
         "1": "1",
         "2": "1",
         "3": "0"
        },
        {
         "0": "2024-05-18",
         "1": "1",
         "2": "0",
         "3": "0"
        },
        {
         "0": "2024-05-29",
         "1": "0",
         "2": "1",
         "3": "0"
        },
        {
         "0": "2024-06-02",
         "1": "1",
         "2": "0",
         "3": "0"
        },
        {
         "0": "2024-06-08",
         "1": "0",
         "2": "1",
         "3": "0"
        },
        {
         "0": "2024-06-19",
         "1": "0",
         "2": "2",
         "3": "0"
        },
        {
         "0": "2024-06-20",
         "1": "2",
         "2": "0",
         "3": "0"
        },
        {
         "0": "2024-06-24",
         "1": "0",
         "2": "1",
         "3": "0"
        },
        {
         "0": "2024-06-25",
         "1": "0",
         "2": "1",
         "3": "0"
        },
        {
         "0": "2024-06-26",
         "1": "0",
         "2": "1",
         "3": "0"
        },
        {
         "0": "2024-07-06",
         "1": "1",
         "2": "0",
         "3": "0"
        },
        {
         "0": "2024-07-11",
         "1": "0",
         "2": "1",
         "3": "0"
        },
        {
         "0": "2024-07-16",
         "1": "0",
         "2": "1",
         "3": "0"
        },
        {
         "0": "2024-07-21",
         "1": "0",
         "2": "1",
         "3": "0"
        },
        {
         "0": "2024-07-25",
         "1": "1",
         "2": "0",
         "3": "0"
        },
        {
         "0": "2024-07-28",
         "1": "1",
         "2": "0",
         "3": "0"
        }
       ],
       "schema": [
        {
         "key": "0",
         "name": "activity_date",
         "type": "date"
        },
        {
         "key": "1",
         "name": "Active_Users",
         "type": "bigint"
        },
        {
         "key": "2",
         "name": "New_user_by_day",
         "type": "bigint"
        },
        {
         "key": "3",
         "name": "Uninstall_Users",
         "type": "bigint"
        }
       ],
       "truncated": false
      },
      "wranglerEntryContext": {
       "dataframeType": "pyspark"
      }
     },
     "type": "Synapse.DataFrame"
    }
   },
   "version": "0.1"
  }
 },
 "nbformat": 4,
 "nbformat_minor": 5
}
